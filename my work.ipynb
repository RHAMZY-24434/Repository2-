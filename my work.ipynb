{
 "cells": [
  {
   "cell_type": "code",
   "execution_count": 1,
   "metadata": {},
   "outputs": [
    {
     "name": "stdout",
     "output_type": "stream",
     "text": [
      "Hello world\n"
     ]
    }
   ],
   "source": [
    "print('Hello world')"
   ]
  },
  {
   "cell_type": "code",
   "execution_count": 4,
   "metadata": {},
   "outputs": [
    {
     "name": "stdout",
     "output_type": "stream",
     "text": [
      "񔗓\n",
      "𓑖\n"
     ]
    }
   ],
   "source": [
    "ord_1 = 345555\n",
    "ord_2 = 78934\n",
    "print(chr(ord_1))\n",
    "print(chr(ord_2))"
   ]
  },
  {
   "cell_type": "code",
   "execution_count": null,
   "metadata": {},
   "outputs": [],
   "source": [
    " 2 + 2"
   ]
  },
  {
   "cell_type": "code",
   "execution_count": null,
   "metadata": {},
   "outputs": [],
   "source": [
    "def Account_balance():\n",
    "    print('Your account balance is #500')\n",
    "\n",
    "def Inter_bank_transfer():\n",
    "    print('You can send money to any bank of your choice')\n",
    "\n",
    "def Intra_bank_transfer():\n",
    "    print('You can only send money to a person using RMB')\n",
    "\n",
    "def Account_details():\n",
    "    print('Visit our Bank to have it')\n",
    "\n",
    "def Free_money():\n",
    "    print('Always claim your free money every Friday night')\n",
    "\n",
    "def USSD_menu():\n",
    "    print('WELCOME TO RHAMZY MICROFINANCE BANK')\n",
    "    print('1. Check Account Balance')\n",
    "    print('2. Make Inter-Bank Transfer')\n",
    "    print('3. Make Intra-Bank Transfer')\n",
    "    print('4. Check Account Details')\n",
    "    print('5. Claim Free Money')\n",
    "\n",
    "    choice = input('Select an Option: ')\n",
    "\n",
    "    if choice == \"1\":\n",
    "        Account_balance()\n",
    "    elif choice == \"2\":\n",
    "        Inter_bank_transfer()\n",
    "    elif choice == \"3\":\n",
    "        Intra_bank_transfer()\n",
    "    elif choice == \"4\":\n",
    "        Account_details()\n",
    "    elif choice == \"5\":\n",
    "        Free_money()\n",
    "    else:\n",
    "        print('Invalid input, please input the correct range of values')\n",
    "\n",
    "    print('Thanks for using RMB')\n",
    "\n",
    "# Call the USSD menu function to start the program\n",
    "USSD_menu()"
   ]
  },
  {
   "cell_type": "code",
   "execution_count": 4,
   "metadata": {},
   "outputs": [
    {
     "name": "stdout",
     "output_type": "stream",
     "text": [
      "0\n",
      "1\n",
      "2\n",
      "3\n",
      "4\n"
     ]
    }
   ],
   "source": [
    "def fun(n):\n",
    "    for i in range(n):\n",
    "        yield i\n",
    "\n",
    "\n",
    "for v in fun(5):\n",
    "    print(v)"
   ]
  },
  {
   "cell_type": "code",
   "execution_count": 3,
   "metadata": {},
   "outputs": [],
   "source": [
    "\n"
   ]
  },
  {
   "cell_type": "code",
   "execution_count": null,
   "metadata": {},
   "outputs": [],
   "source": []
  }
 ],
 "metadata": {
  "kernelspec": {
   "display_name": "Python 3",
   "language": "python",
   "name": "python3"
  },
  "language_info": {
   "codemirror_mode": {
    "name": "ipython",
    "version": 3
   },
   "file_extension": ".py",
   "mimetype": "text/x-python",
   "name": "python",
   "nbconvert_exporter": "python",
   "pygments_lexer": "ipython3",
   "version": "3.12.4"
  }
 },
 "nbformat": 4,
 "nbformat_minor": 2
}
